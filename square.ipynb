{
 "cells": [
  {
   "cell_type": "code",
   "execution_count": 3,
   "metadata": {},
   "outputs": [
    {
     "name": "stdout",
     "output_type": "stream",
     "text": [
      "   number  square                       time\n",
      "0       0       0 2023-02-03 14:57:45.119815\n",
      "1       1       1 2023-02-03 14:57:45.119815\n",
      "2       2       4 2023-02-03 14:57:45.119815\n",
      "3       3       9 2023-02-03 14:57:45.119815\n",
      "4       4      16 2023-02-03 14:57:45.119815\n"
     ]
    }
   ],
   "source": [
    "# Import packages\n",
    "import pandas as pd\n",
    "import os\n",
    "\n",
    "# generate a df\n",
    "lis = [[x,x*x] for x in range(5)]\n",
    "df = pd.DataFrame(lis, columns=[\"number\", \"square\"])\n",
    "\n",
    "# add time column\n",
    "df[\"time\"] = pd.Timestamp.now()\n",
    "print(df)\n",
    "\n",
    "# read and save the latest file to \"latest.csv\"\n",
    "try:\n",
    "    os.rename(\"square.csv\", \"latest.csv\")\n",
    "except:\n",
    "    pass\n",
    "    \n",
    "# save the new data to \"square.csv\"\n",
    "df.to_csv(\"square.csv\", index=False)"
   ]
  }
 ],
 "metadata": {
  "kernelspec": {
   "display_name": "project",
   "language": "python",
   "name": "python3"
  },
  "language_info": {
   "codemirror_mode": {
    "name": "ipython",
    "version": 3
   },
   "file_extension": ".py",
   "mimetype": "text/x-python",
   "name": "python",
   "nbconvert_exporter": "python",
   "pygments_lexer": "ipython3",
   "version": "3.11.0 (main, Jan 16 2023, 08:17:56) [Clang 14.0.6 ]"
  },
  "orig_nbformat": 4,
  "vscode": {
   "interpreter": {
    "hash": "09876061dae1b94da55dfef134c78f58cd30dbda9bf9dff4f0cf6fcb3cc4f2c5"
   }
  }
 },
 "nbformat": 4,
 "nbformat_minor": 2
}
